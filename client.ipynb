{
 "cells": [
  {
   "cell_type": "code",
   "execution_count": 13,
   "metadata": {},
   "outputs": [],
   "source": [
    "import socket\n",
    "import json\n",
    "\n",
    "\n",
    "host = \"localhost\"\n",
    "port = 8080\n",
    "\n",
    "def send_and_recieve(json_data):\n",
    "\n",
    "    client = socket.socket(socket.AF_INET, socket.SOCK_STREAM)\n",
    "    client.connect((host,port))\n",
    "    login_info = json_data\n",
    "    login_info = json.dumps(login_info)\n",
    "    client.send(bytes(login_info, encoding=\"ascii\"))\n",
    "    response = client.recv(4096)\n",
    "    response = response.decode(\"ascii\")\n",
    "    response = json.loads(response)\n",
    "    return response"
   ]
  },
  {
   "cell_type": "markdown",
   "metadata": {},
   "source": [
    "# Testing \"login\" and action validation"
   ]
  },
  {
   "cell_type": "code",
   "execution_count": 17,
   "metadata": {},
   "outputs": [],
   "source": [
    "assert send_and_recieve({\"malformed\": \"request\"}) == {'state': 'error', 'why': 'badRequest'}\n",
    "assert send_and_recieve({'name': \"userNotLoggable\", \"action\": \"listRooms\", \"actionSpecs\": {}}) == {'state': 'error', 'why': 'userNotAllowedError'}\n",
    "assert send_and_recieve({'name': \"riccardo\", \"action\": \"listRooms\", \"actionSpecs\": {}})[\"state\"] == \"ok\""
   ]
  },
  {
   "cell_type": "code",
   "execution_count": null,
   "metadata": {},
   "outputs": [],
   "source": []
  }
 ],
 "metadata": {
  "kernelspec": {
   "display_name": "Python 3",
   "language": "python",
   "name": "python3"
  },
  "language_info": {
   "codemirror_mode": {
    "name": "ipython",
    "version": 3
   },
   "file_extension": ".py",
   "mimetype": "text/x-python",
   "name": "python",
   "nbconvert_exporter": "python",
   "pygments_lexer": "ipython3",
   "version": "3.11.3"
  }
 },
 "nbformat": 4,
 "nbformat_minor": 2
}
