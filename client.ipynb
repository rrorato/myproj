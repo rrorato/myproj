{
 "cells": [
  {
   "cell_type": "code",
   "execution_count": 48,
   "metadata": {},
   "outputs": [],
   "source": [
    "import socket\n",
    "import json\n",
    "\n",
    "\n",
    "host = \"localhost\"\n",
    "port = 8080\n",
    "\n",
    "def send_and_recieve(json_data):\n",
    "\n",
    "    client = socket.socket(socket.AF_INET, socket.SOCK_STREAM)\n",
    "    client.connect((host,port))\n",
    "    login_info = json_data\n",
    "    login_info = json.dumps(login_info)\n",
    "    try:\n",
    "        client.send(bytes(login_info, encoding=\"ascii\"))\n",
    "        response = client.recv(4096)\n",
    "        response = response.decode(\"ascii\")\n",
    "        response = json.loads(response)\n",
    "    except:\n",
    "        print(\"Server returned nothing or request was out of time\")\n",
    "        return \"\"\n",
    "    return response"
   ]
  },
  {
   "cell_type": "markdown",
   "metadata": {},
   "source": [
    "# Testing \"login\" and action validation"
   ]
  },
  {
   "cell_type": "code",
   "execution_count": 85,
   "metadata": {},
   "outputs": [],
   "source": [
    "assert send_and_recieve({\"malformed\": \"request\"}) == {'state': 'error', 'why': 'badRequest'} # request without fields \"name\", \"action\", \"actionSpecs\"\n",
    "assert send_and_recieve({'name': \"userNotLoggable\", \"action\": \"listRooms\", \"actionSpecs\": {}}) == {'state': 'error', 'why': 'userNotAllowedError'} # unauthorized user\n",
    "assert send_and_recieve({'name': \"riccardo\", \"action\": \"unknownAction\", \"actionSpecs\": {}}) == {\"state\": \"error\", \"why\": \"unknownAction\"} # authorized user but unknown action"
   ]
  },
  {
   "cell_type": "markdown",
   "metadata": {},
   "source": [
    "# testing room create / destroy"
   ]
  },
  {
   "cell_type": "code",
   "execution_count": 56,
   "metadata": {},
   "outputs": [],
   "source": [
    "assert send_and_recieve({'name': \"riccardo\", \"action\": \"createRoom\", \"actionSpecs\": {\"room\": \"room1\"}}) == {\"state\": \"ok\", \"info\": \"roomCreated\"}  # create room ok\n",
    "assert send_and_recieve({'name': \"alessandro\", \"action\": \"destroyRoom\", \"actionSpecs\": {\"room\": \"room1\"}}) == {\"state\": \"error\", \"why\": \"notAllowed\"} # other user cannot destroy room\n",
    "assert send_and_recieve({'name': \"riccardo\", \"action\": \"destroyRoom\", \"actionSpecs\": {\"room\": \"randomRoom\"}}) == {\"state\": \"error\", \"why\": \"notAllowed\"} # cannot destory non-existent room\n",
    "assert send_and_recieve({'name': \"riccardo\", \"action\": \"destroyRoom\", \"actionSpecs\": {\"room\": \"room1\"}}) == {\"state\": \"ok\", \"info\": \"roomDestroyed\"} # ok room destroyed\n",
    "assert send_and_recieve({'name': \"riccardo\", \"action\": \"destroyRoom\", \"actionSpecs\": {\"room\": \"room1\"}}) == {\"state\": \"error\", \"why\": \"notAllowed\"} # double destroy, impossible\n"
   ]
  },
  {
   "cell_type": "markdown",
   "metadata": {},
   "source": [
    "# testing room list"
   ]
  },
  {
   "cell_type": "code",
   "execution_count": 79,
   "metadata": {},
   "outputs": [],
   "source": [
    "assert send_and_recieve({'name': \"riccardo\", \"action\": \"listRooms\", \"actionSpecs\": {}}) == {\"state\": \"ok\", \"roomNames\": \"[]\"}\n",
    "send_and_recieve({'name': \"riccardo\", \"action\": \"createRoom\", \"actionSpecs\": {\"room\": \"room1\"}})\n",
    "assert \"room1\" in send_and_recieve({'name': \"riccardo\", \"action\": \"listRooms\", \"actionSpecs\": {}})[\"roomNames\"]\n",
    "send_and_recieve({'name': \"riccardo\", \"action\": \"createRoom\", \"actionSpecs\": {\"room\": \"room2\"}})\n",
    "assert \"room1\" in send_and_recieve({'name': \"riccardo\", \"action\": \"listRooms\", \"actionSpecs\": {}})[\"roomNames\"]\n",
    "assert \"room2\" in send_and_recieve({'name': \"riccardo\", \"action\": \"listRooms\", \"actionSpecs\": {}})[\"roomNames\"]\n",
    "send_and_recieve({'name': \"riccardo\", \"action\": \"destroyRoom\", \"actionSpecs\": {\"room\": \"room1\"}})\n",
    "assert \"room1\" not in send_and_recieve({'name': \"riccardo\", \"action\": \"listRooms\", \"actionSpecs\": {}})[\"roomNames\"]\n",
    "assert \"room2\" in send_and_recieve({'name': \"riccardo\", \"action\": \"listRooms\", \"actionSpecs\": {}})[\"roomNames\"]\n",
    "send_and_recieve({'name': \"riccardo\", \"action\": \"destroyRoom\", \"actionSpecs\": {\"room\": \"room2\"}})\n",
    "assert send_and_recieve({'name': \"riccardo\", \"action\": \"listRooms\", \"actionSpecs\": {}}) == {\"state\": \"ok\", \"roomNames\": \"[]\"}"
   ]
  },
  {
   "cell_type": "markdown",
   "metadata": {},
   "source": [
    "# testing room join"
   ]
  },
  {
   "cell_type": "code",
   "execution_count": 84,
   "metadata": {},
   "outputs": [
    {
     "data": {
      "text/plain": [
       "{'info': 'messageSent', 'state': 'ok'}"
      ]
     },
     "execution_count": 84,
     "metadata": {},
     "output_type": "execute_result"
    }
   ],
   "source": [
    "send_and_recieve({'name': \"riccardo\", \"action\": \"createRoom\", \"actionSpecs\": {\"room\": \"room1\"}})\n",
    "assert send_and_recieve({'name': \"riccardo\", \"action\": \"joinRoom\", \"actionSpecs\": {\"room\": \"room1\"}}) == {'info': 'joinedRoom', 'state': 'ok'}\n",
    "assert send_and_recieve({'name': \"alessandro\", \"action\": \"joinRoom\", \"actionSpecs\": {\"room\": \"room1\"}}) == {'info': 'joinedRoom', 'state': 'ok'}\n",
    "send_and_recieve({'name': \"riccardo\", \"action\": \"sendMessage\", \"actionSpecs\": {\"room\": \"room1\", \"message\": \"ciao\"}})\n"
   ]
  },
  {
   "cell_type": "code",
   "execution_count": null,
   "metadata": {},
   "outputs": [],
   "source": []
  }
 ],
 "metadata": {
  "kernelspec": {
   "display_name": "Python 3",
   "language": "python",
   "name": "python3"
  },
  "language_info": {
   "codemirror_mode": {
    "name": "ipython",
    "version": 3
   },
   "file_extension": ".py",
   "mimetype": "text/x-python",
   "name": "python",
   "nbconvert_exporter": "python",
   "pygments_lexer": "ipython3",
   "version": "3.11.3"
  }
 },
 "nbformat": 4,
 "nbformat_minor": 2
}
